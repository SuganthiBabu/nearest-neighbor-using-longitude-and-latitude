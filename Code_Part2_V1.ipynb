{
 "cells": [
  {
   "cell_type": "code",
   "execution_count": 1,
   "metadata": {},
   "outputs": [],
   "source": [
    "import pandas as pd\n",
    "import numpy as np\n",
    "from scipy.io import arff\n",
    "\n",
    "Contract_Quote = pd.read_csv('C:/Users/bsuga/capstone_project/Data/Extract_from_Salesforce/Processed_Data_V2.csv',encoding='ISO-8859-1')"
   ]
  },
  {
   "cell_type": "code",
   "execution_count": 2,
   "metadata": {},
   "outputs": [],
   "source": [
    "df= Contract_Quote\n",
    "df_1 = df.iloc[:500,:]\n",
    "df_2 = df.iloc[501:1000,:]\n",
    "df_3 = df.iloc[1001:1500,:]\n",
    "df_4 = df.iloc[1501:2000,:]\n",
    "df_5 = df.iloc[2001:2500,:]\n",
    "df_6 = df.iloc[2501:3000,:]\n",
    "df_7 = df.iloc[3001:3500,:]\n",
    "df_8 = df.iloc[3501:4000,:]\n",
    "df_9 = df.iloc[4001:,:]"
   ]
  },
  {
   "cell_type": "code",
   "execution_count": 3,
   "metadata": {},
   "outputs": [],
   "source": [
    "from geopy.geocoders import Nominatim\n",
    "geolocator = Nominatim(user_agent=\"geoapiExercises\")\n",
    "def city_state_country(L,R):\n",
    "    coord=str(L)+','+str(R)\n",
    "    location = geolocator.reverse(coord, exactly_one=True,timeout=10)\n",
    "    address = location.raw['address']\n",
    "    city = address.get('city', '')\n",
    "    state = address.get('state', '')\n",
    "    country = address.get('country', '')\n",
    "    return address"
   ]
  },
  {
   "cell_type": "code",
   "execution_count": 4,
   "metadata": {},
   "outputs": [
    {
     "data": {
      "text/plain": [
       "{'house_number': '11080',\n",
       " 'road': 'Glastonbury Circle',\n",
       " 'neighbourhood': 'The Plantation Somerset',\n",
       " 'city': 'Fort Myers',\n",
       " 'county': 'Lee County',\n",
       " 'state': 'Florida',\n",
       " 'postcode': '33913',\n",
       " 'country': 'United States',\n",
       " 'country_code': 'us'}"
      ]
     },
     "execution_count": 4,
     "metadata": {},
     "output_type": "execute_result"
    }
   ],
   "source": [
    "city_state_country(26.565118,-81.780411)"
   ]
  },
  {
   "cell_type": "code",
   "execution_count": 5,
   "metadata": {},
   "outputs": [
    {
     "name": "stderr",
     "output_type": "stream",
     "text": [
      "C:\\Users\\bsuga\\anaconda3\\lib\\site-packages\\ipykernel_launcher.py:1: SettingWithCopyWarning: \n",
      "A value is trying to be set on a copy of a slice from a DataFrame.\n",
      "Try using .loc[row_indexer,col_indexer] = value instead\n",
      "\n",
      "See the caveats in the documentation: https://pandas.pydata.org/pandas-docs/stable/user_guide/indexing.html#returning-a-view-versus-a-copy\n",
      "  \"\"\"Entry point for launching an IPython kernel.\n"
     ]
    },
    {
     "data": {
      "text/plain": [
       "(499, 19)"
      ]
     },
     "execution_count": 5,
     "metadata": {},
     "output_type": "execute_result"
    }
   ],
   "source": [
    "df_2['Location'] = df_2.apply(lambda x: city_state_country(x.Latitude, x.Longitude), axis=1)\n",
    "df_2.shape"
   ]
  },
  {
   "cell_type": "code",
   "execution_count": 6,
   "metadata": {},
   "outputs": [
    {
     "name": "stdout",
     "output_type": "stream",
     "text": [
      "<class 'pandas.core.frame.DataFrame'>\n",
      "RangeIndex: 499 entries, 501 to 999\n",
      "Data columns (total 19 columns):\n",
      " #   Column                 Non-Null Count  Dtype  \n",
      "---  ------                 --------------  -----  \n",
      " 0   Unnamed: 0             499 non-null    int64  \n",
      " 1   Contract Number        499 non-null    int64  \n",
      " 2   Contract ID            499 non-null    object \n",
      " 3   Quote ID               499 non-null    object \n",
      " 4   Smartview Contract ID  499 non-null    float64\n",
      " 5   Products               499 non-null    object \n",
      " 6   Contract Approved      499 non-null    int64  \n",
      " 7   Status                 499 non-null    object \n",
      " 8   Subtotal               499 non-null    float64\n",
      " 9   Total Price            499 non-null    float64\n",
      " 10  Contract Amount        499 non-null    float64\n",
      " 11  Sales Total            499 non-null    float64\n",
      " 12  Sold Date - Date Only  498 non-null    object \n",
      " 13  Site Address           499 non-null    object \n",
      " 14  Latitude               499 non-null    float64\n",
      " 15  Longitude              499 non-null    float64\n",
      " 16  Discount_Contract      499 non-null    float64\n",
      " 17  Discount_Sales         499 non-null    float64\n",
      " 18  Location               499 non-null    object \n",
      "dtypes: float64(9), int64(3), object(7)\n",
      "memory usage: 74.2+ KB\n"
     ]
    }
   ],
   "source": [
    "df_2.info()"
   ]
  },
  {
   "cell_type": "code",
   "execution_count": 7,
   "metadata": {},
   "outputs": [
    {
     "data": {
      "text/plain": [
       "501    {'road': 'Pelto Street', 'residential': 'Islan...\n",
       "502    {'house_number': '14735', 'road': 'Osprey Poin...\n",
       "503    {'house_number': '7756', 'road': 'Grande Shore...\n",
       "504    {'road': 'Montelanico Loop', 'county': 'Collie...\n",
       "505    {'house_number': '19368', 'road': 'Water Oak D...\n",
       "                             ...                        \n",
       "995    {'house_number': '9599', 'road': 'Ironstone Te...\n",
       "996    {'house_number': '1906', 'road': 'Northwest 1s...\n",
       "997    {'house_number': '3350', 'road': 'North Key Dr...\n",
       "998    {'road': 'Antigua Way', 'residential': 'The Is...\n",
       "999    {'house_number': '3541', 'road': 'El Segundo C...\n",
       "Name: Location, Length: 499, dtype: object"
      ]
     },
     "execution_count": 7,
     "metadata": {},
     "output_type": "execute_result"
    }
   ],
   "source": [
    "df_2['Location']"
   ]
  },
  {
   "cell_type": "code",
   "execution_count": 9,
   "metadata": {},
   "outputs": [
    {
     "name": "stderr",
     "output_type": "stream",
     "text": [
      "C:\\Users\\bsuga\\anaconda3\\lib\\site-packages\\ipykernel_launcher.py:1: SettingWithCopyWarning: \n",
      "A value is trying to be set on a copy of a slice from a DataFrame.\n",
      "Try using .loc[row_indexer,col_indexer] = value instead\n",
      "\n",
      "See the caveats in the documentation: https://pandas.pydata.org/pandas-docs/stable/user_guide/indexing.html#returning-a-view-versus-a-copy\n",
      "  \"\"\"Entry point for launching an IPython kernel.\n"
     ]
    },
    {
     "data": {
      "text/plain": [
       "(500, 19)"
      ]
     },
     "execution_count": 9,
     "metadata": {},
     "output_type": "execute_result"
    }
   ],
   "source": [
    "df_1['Location'] = df_1.apply(lambda x: city_state_country(x.Latitude, x.Longitude), axis=1)\n",
    "df_1.shape"
   ]
  },
  {
   "cell_type": "code",
   "execution_count": 10,
   "metadata": {},
   "outputs": [
    {
     "name": "stderr",
     "output_type": "stream",
     "text": [
      "C:\\Users\\bsuga\\anaconda3\\lib\\site-packages\\ipykernel_launcher.py:1: SettingWithCopyWarning: \n",
      "A value is trying to be set on a copy of a slice from a DataFrame.\n",
      "Try using .loc[row_indexer,col_indexer] = value instead\n",
      "\n",
      "See the caveats in the documentation: https://pandas.pydata.org/pandas-docs/stable/user_guide/indexing.html#returning-a-view-versus-a-copy\n",
      "  \"\"\"Entry point for launching an IPython kernel.\n"
     ]
    },
    {
     "data": {
      "text/plain": [
       "(499, 19)"
      ]
     },
     "execution_count": 10,
     "metadata": {},
     "output_type": "execute_result"
    }
   ],
   "source": [
    "df_3['Location'] = df_3.apply(lambda x: city_state_country(x.Latitude, x.Longitude), axis=1)\n",
    "df_3.shape"
   ]
  },
  {
   "cell_type": "code",
   "execution_count": 11,
   "metadata": {},
   "outputs": [
    {
     "name": "stderr",
     "output_type": "stream",
     "text": [
      "C:\\Users\\bsuga\\anaconda3\\lib\\site-packages\\ipykernel_launcher.py:1: SettingWithCopyWarning: \n",
      "A value is trying to be set on a copy of a slice from a DataFrame.\n",
      "Try using .loc[row_indexer,col_indexer] = value instead\n",
      "\n",
      "See the caveats in the documentation: https://pandas.pydata.org/pandas-docs/stable/user_guide/indexing.html#returning-a-view-versus-a-copy\n",
      "  \"\"\"Entry point for launching an IPython kernel.\n"
     ]
    },
    {
     "data": {
      "text/plain": [
       "(499, 19)"
      ]
     },
     "execution_count": 11,
     "metadata": {},
     "output_type": "execute_result"
    }
   ],
   "source": [
    "df_4['Location'] = df_4.apply(lambda x: city_state_country(x.Latitude, x.Longitude), axis=1)\n",
    "df_4.shape"
   ]
  },
  {
   "cell_type": "code",
   "execution_count": 15,
   "metadata": {},
   "outputs": [
    {
     "name": "stderr",
     "output_type": "stream",
     "text": [
      "C:\\Users\\bsuga\\anaconda3\\lib\\site-packages\\ipykernel_launcher.py:1: SettingWithCopyWarning: \n",
      "A value is trying to be set on a copy of a slice from a DataFrame.\n",
      "Try using .loc[row_indexer,col_indexer] = value instead\n",
      "\n",
      "See the caveats in the documentation: https://pandas.pydata.org/pandas-docs/stable/user_guide/indexing.html#returning-a-view-versus-a-copy\n",
      "  \"\"\"Entry point for launching an IPython kernel.\n"
     ]
    },
    {
     "data": {
      "text/plain": [
       "(499, 19)"
      ]
     },
     "execution_count": 15,
     "metadata": {},
     "output_type": "execute_result"
    }
   ],
   "source": [
    "df_5['Location'] = df_5.apply(lambda x: city_state_country(x.Latitude, x.Longitude), axis=1)\n",
    "df_5.shape"
   ]
  },
  {
   "cell_type": "code",
   "execution_count": 16,
   "metadata": {},
   "outputs": [
    {
     "name": "stderr",
     "output_type": "stream",
     "text": [
      "C:\\Users\\bsuga\\anaconda3\\lib\\site-packages\\ipykernel_launcher.py:1: SettingWithCopyWarning: \n",
      "A value is trying to be set on a copy of a slice from a DataFrame.\n",
      "Try using .loc[row_indexer,col_indexer] = value instead\n",
      "\n",
      "See the caveats in the documentation: https://pandas.pydata.org/pandas-docs/stable/user_guide/indexing.html#returning-a-view-versus-a-copy\n",
      "  \"\"\"Entry point for launching an IPython kernel.\n"
     ]
    },
    {
     "data": {
      "text/plain": [
       "(499, 19)"
      ]
     },
     "execution_count": 16,
     "metadata": {},
     "output_type": "execute_result"
    }
   ],
   "source": [
    "df_6['Location'] = df_6.apply(lambda x: city_state_country(x.Latitude, x.Longitude), axis=1)\n",
    "df_6.shape"
   ]
  },
  {
   "cell_type": "code",
   "execution_count": 17,
   "metadata": {},
   "outputs": [
    {
     "name": "stderr",
     "output_type": "stream",
     "text": [
      "C:\\Users\\bsuga\\anaconda3\\lib\\site-packages\\ipykernel_launcher.py:1: SettingWithCopyWarning: \n",
      "A value is trying to be set on a copy of a slice from a DataFrame.\n",
      "Try using .loc[row_indexer,col_indexer] = value instead\n",
      "\n",
      "See the caveats in the documentation: https://pandas.pydata.org/pandas-docs/stable/user_guide/indexing.html#returning-a-view-versus-a-copy\n",
      "  \"\"\"Entry point for launching an IPython kernel.\n"
     ]
    },
    {
     "data": {
      "text/plain": [
       "(499, 19)"
      ]
     },
     "execution_count": 17,
     "metadata": {},
     "output_type": "execute_result"
    }
   ],
   "source": [
    "df_7['Location'] = df_7.apply(lambda x: city_state_country(x.Latitude, x.Longitude), axis=1)\n",
    "df_7.shape"
   ]
  },
  {
   "cell_type": "code",
   "execution_count": 18,
   "metadata": {},
   "outputs": [
    {
     "name": "stderr",
     "output_type": "stream",
     "text": [
      "C:\\Users\\bsuga\\anaconda3\\lib\\site-packages\\ipykernel_launcher.py:1: SettingWithCopyWarning: \n",
      "A value is trying to be set on a copy of a slice from a DataFrame.\n",
      "Try using .loc[row_indexer,col_indexer] = value instead\n",
      "\n",
      "See the caveats in the documentation: https://pandas.pydata.org/pandas-docs/stable/user_guide/indexing.html#returning-a-view-versus-a-copy\n",
      "  \"\"\"Entry point for launching an IPython kernel.\n"
     ]
    },
    {
     "data": {
      "text/plain": [
       "(499, 19)"
      ]
     },
     "execution_count": 18,
     "metadata": {},
     "output_type": "execute_result"
    }
   ],
   "source": [
    "df_8['Location'] = df_8.apply(lambda x: city_state_country(x.Latitude, x.Longitude), axis=1)\n",
    "df_8.shape"
   ]
  },
  {
   "cell_type": "code",
   "execution_count": 19,
   "metadata": {},
   "outputs": [
    {
     "name": "stderr",
     "output_type": "stream",
     "text": [
      "C:\\Users\\bsuga\\anaconda3\\lib\\site-packages\\ipykernel_launcher.py:1: SettingWithCopyWarning: \n",
      "A value is trying to be set on a copy of a slice from a DataFrame.\n",
      "Try using .loc[row_indexer,col_indexer] = value instead\n",
      "\n",
      "See the caveats in the documentation: https://pandas.pydata.org/pandas-docs/stable/user_guide/indexing.html#returning-a-view-versus-a-copy\n",
      "  \"\"\"Entry point for launching an IPython kernel.\n"
     ]
    },
    {
     "data": {
      "text/plain": [
       "(530, 19)"
      ]
     },
     "execution_count": 19,
     "metadata": {},
     "output_type": "execute_result"
    }
   ],
   "source": [
    "df_9['Location'] = df_9.apply(lambda x: city_state_country(x.Latitude, x.Longitude), axis=1)\n",
    "df_9.shape"
   ]
  },
  {
   "cell_type": "code",
   "execution_count": 20,
   "metadata": {},
   "outputs": [
    {
     "data": {
      "text/plain": [
       "(4523, 19)"
      ]
     },
     "execution_count": 20,
     "metadata": {},
     "output_type": "execute_result"
    }
   ],
   "source": [
    "df = [df_1, df_2,df_3,df_4,df_5,df_6,df_7,df_8,df_9]\n",
    "  \n",
    "df = pd.concat(df)\n",
    "df.shape"
   ]
  },
  {
   "cell_type": "code",
   "execution_count": 21,
   "metadata": {},
   "outputs": [
    {
     "data": {
      "text/html": [
       "<div>\n",
       "<style scoped>\n",
       "    .dataframe tbody tr th:only-of-type {\n",
       "        vertical-align: middle;\n",
       "    }\n",
       "\n",
       "    .dataframe tbody tr th {\n",
       "        vertical-align: top;\n",
       "    }\n",
       "\n",
       "    .dataframe thead th {\n",
       "        text-align: right;\n",
       "    }\n",
       "</style>\n",
       "<table border=\"1\" class=\"dataframe\">\n",
       "  <thead>\n",
       "    <tr style=\"text-align: right;\">\n",
       "      <th></th>\n",
       "      <th>Latitude</th>\n",
       "      <th>Longitude</th>\n",
       "    </tr>\n",
       "  </thead>\n",
       "  <tbody>\n",
       "    <tr>\n",
       "      <th>0</th>\n",
       "      <td>26.218520</td>\n",
       "      <td>-81.733095</td>\n",
       "    </tr>\n",
       "    <tr>\n",
       "      <th>1</th>\n",
       "      <td>26.262933</td>\n",
       "      <td>-81.773646</td>\n",
       "    </tr>\n",
       "    <tr>\n",
       "      <th>2</th>\n",
       "      <td>26.297815</td>\n",
       "      <td>-81.719438</td>\n",
       "    </tr>\n",
       "    <tr>\n",
       "      <th>3</th>\n",
       "      <td>26.593964</td>\n",
       "      <td>-81.764015</td>\n",
       "    </tr>\n",
       "    <tr>\n",
       "      <th>4</th>\n",
       "      <td>26.693666</td>\n",
       "      <td>-81.734365</td>\n",
       "    </tr>\n",
       "  </tbody>\n",
       "</table>\n",
       "</div>"
      ],
      "text/plain": [
       "    Latitude  Longitude\n",
       "0  26.218520 -81.733095\n",
       "1  26.262933 -81.773646\n",
       "2  26.297815 -81.719438\n",
       "3  26.593964 -81.764015\n",
       "4  26.693666 -81.734365"
      ]
     },
     "execution_count": 21,
     "metadata": {},
     "output_type": "execute_result"
    }
   ],
   "source": [
    "df_L=df[['Latitude','Longitude']]\n",
    "df_L.head()"
   ]
  },
  {
   "cell_type": "code",
   "execution_count": 22,
   "metadata": {},
   "outputs": [
    {
     "data": {
      "text/html": [
       "<div>\n",
       "<style scoped>\n",
       "    .dataframe tbody tr th:only-of-type {\n",
       "        vertical-align: middle;\n",
       "    }\n",
       "\n",
       "    .dataframe tbody tr th {\n",
       "        vertical-align: top;\n",
       "    }\n",
       "\n",
       "    .dataframe thead th {\n",
       "        text-align: right;\n",
       "    }\n",
       "</style>\n",
       "<table border=\"1\" class=\"dataframe\">\n",
       "  <thead>\n",
       "    <tr style=\"text-align: right;\">\n",
       "      <th></th>\n",
       "      <th>Unnamed: 0</th>\n",
       "      <th>Contract Number</th>\n",
       "      <th>Contract ID</th>\n",
       "      <th>Quote ID</th>\n",
       "      <th>Smartview Contract ID</th>\n",
       "      <th>Products</th>\n",
       "      <th>Contract Approved</th>\n",
       "      <th>Status</th>\n",
       "      <th>Subtotal</th>\n",
       "      <th>Total Price</th>\n",
       "      <th>...</th>\n",
       "      <th>aeroway</th>\n",
       "      <th>man_made</th>\n",
       "      <th>quarter</th>\n",
       "      <th>office</th>\n",
       "      <th>township</th>\n",
       "      <th>state_district</th>\n",
       "      <th>retail</th>\n",
       "      <th>city_district</th>\n",
       "      <th>shop</th>\n",
       "      <th>historic</th>\n",
       "    </tr>\n",
       "  </thead>\n",
       "  <tbody>\n",
       "    <tr>\n",
       "      <th>0</th>\n",
       "      <td>1</td>\n",
       "      <td>25146</td>\n",
       "      <td>8004Q000001RClb</td>\n",
       "      <td>0Q04Q000005jx3s</td>\n",
       "      <td>30207.0</td>\n",
       "      <td>Shutter</td>\n",
       "      <td>1</td>\n",
       "      <td>Approved</td>\n",
       "      <td>7767.0</td>\n",
       "      <td>7767.0</td>\n",
       "      <td>...</td>\n",
       "      <td>NaN</td>\n",
       "      <td>NaN</td>\n",
       "      <td>NaN</td>\n",
       "      <td>NaN</td>\n",
       "      <td>NaN</td>\n",
       "      <td>NaN</td>\n",
       "      <td>NaN</td>\n",
       "      <td>NaN</td>\n",
       "      <td>NaN</td>\n",
       "      <td>NaN</td>\n",
       "    </tr>\n",
       "    <tr>\n",
       "      <th>1</th>\n",
       "      <td>9</td>\n",
       "      <td>25230</td>\n",
       "      <td>8004Q000001RCpb</td>\n",
       "      <td>0Q04Q000005jwrN</td>\n",
       "      <td>30301.0</td>\n",
       "      <td>Window</td>\n",
       "      <td>1</td>\n",
       "      <td>Approved</td>\n",
       "      <td>13702.0</td>\n",
       "      <td>13702.0</td>\n",
       "      <td>...</td>\n",
       "      <td>NaN</td>\n",
       "      <td>NaN</td>\n",
       "      <td>NaN</td>\n",
       "      <td>NaN</td>\n",
       "      <td>NaN</td>\n",
       "      <td>NaN</td>\n",
       "      <td>NaN</td>\n",
       "      <td>NaN</td>\n",
       "      <td>NaN</td>\n",
       "      <td>NaN</td>\n",
       "    </tr>\n",
       "    <tr>\n",
       "      <th>2</th>\n",
       "      <td>12</td>\n",
       "      <td>295</td>\n",
       "      <td>8001U0000003t43</td>\n",
       "      <td>0Q01U000000vVLf</td>\n",
       "      <td>28131.0</td>\n",
       "      <td>Shutter</td>\n",
       "      <td>1</td>\n",
       "      <td>Approved</td>\n",
       "      <td>12125.0</td>\n",
       "      <td>12125.0</td>\n",
       "      <td>...</td>\n",
       "      <td>NaN</td>\n",
       "      <td>NaN</td>\n",
       "      <td>NaN</td>\n",
       "      <td>NaN</td>\n",
       "      <td>NaN</td>\n",
       "      <td>NaN</td>\n",
       "      <td>NaN</td>\n",
       "      <td>NaN</td>\n",
       "      <td>NaN</td>\n",
       "      <td>NaN</td>\n",
       "    </tr>\n",
       "    <tr>\n",
       "      <th>3</th>\n",
       "      <td>16</td>\n",
       "      <td>297</td>\n",
       "      <td>8001U0000003t45</td>\n",
       "      <td>0Q01U000000vVOl</td>\n",
       "      <td>28229.0</td>\n",
       "      <td>Shutter</td>\n",
       "      <td>1</td>\n",
       "      <td>Approved</td>\n",
       "      <td>7025.0</td>\n",
       "      <td>7025.0</td>\n",
       "      <td>...</td>\n",
       "      <td>NaN</td>\n",
       "      <td>NaN</td>\n",
       "      <td>NaN</td>\n",
       "      <td>NaN</td>\n",
       "      <td>NaN</td>\n",
       "      <td>NaN</td>\n",
       "      <td>NaN</td>\n",
       "      <td>NaN</td>\n",
       "      <td>NaN</td>\n",
       "      <td>NaN</td>\n",
       "    </tr>\n",
       "    <tr>\n",
       "      <th>4</th>\n",
       "      <td>24</td>\n",
       "      <td>301</td>\n",
       "      <td>8001U0000003t49</td>\n",
       "      <td>0Q01U000000vVSs</td>\n",
       "      <td>28370.0</td>\n",
       "      <td>Shutter</td>\n",
       "      <td>1</td>\n",
       "      <td>Approved</td>\n",
       "      <td>6438.0</td>\n",
       "      <td>6438.0</td>\n",
       "      <td>...</td>\n",
       "      <td>NaN</td>\n",
       "      <td>NaN</td>\n",
       "      <td>NaN</td>\n",
       "      <td>NaN</td>\n",
       "      <td>NaN</td>\n",
       "      <td>NaN</td>\n",
       "      <td>NaN</td>\n",
       "      <td>NaN</td>\n",
       "      <td>NaN</td>\n",
       "      <td>NaN</td>\n",
       "    </tr>\n",
       "    <tr>\n",
       "      <th>...</th>\n",
       "      <td>...</td>\n",
       "      <td>...</td>\n",
       "      <td>...</td>\n",
       "      <td>...</td>\n",
       "      <td>...</td>\n",
       "      <td>...</td>\n",
       "      <td>...</td>\n",
       "      <td>...</td>\n",
       "      <td>...</td>\n",
       "      <td>...</td>\n",
       "      <td>...</td>\n",
       "      <td>...</td>\n",
       "      <td>...</td>\n",
       "      <td>...</td>\n",
       "      <td>...</td>\n",
       "      <td>...</td>\n",
       "      <td>...</td>\n",
       "      <td>...</td>\n",
       "      <td>...</td>\n",
       "      <td>...</td>\n",
       "      <td>...</td>\n",
       "    </tr>\n",
       "    <tr>\n",
       "      <th>95</th>\n",
       "      <td>779</td>\n",
       "      <td>26258</td>\n",
       "      <td>8004Q000001RDRQ</td>\n",
       "      <td>0Q04Q000005jzHr</td>\n",
       "      <td>31273.0</td>\n",
       "      <td>Window and Shutter</td>\n",
       "      <td>1</td>\n",
       "      <td>Approved</td>\n",
       "      <td>5353.2</td>\n",
       "      <td>5353.2</td>\n",
       "      <td>...</td>\n",
       "      <td>NaN</td>\n",
       "      <td>NaN</td>\n",
       "      <td>NaN</td>\n",
       "      <td>NaN</td>\n",
       "      <td>NaN</td>\n",
       "      <td>NaN</td>\n",
       "      <td>NaN</td>\n",
       "      <td>NaN</td>\n",
       "      <td>NaN</td>\n",
       "      <td>NaN</td>\n",
       "    </tr>\n",
       "    <tr>\n",
       "      <th>96</th>\n",
       "      <td>803</td>\n",
       "      <td>26423</td>\n",
       "      <td>8004Q000001RDZY</td>\n",
       "      <td>0Q04Q000005jzRD</td>\n",
       "      <td>31470.0</td>\n",
       "      <td>Window and Shutter</td>\n",
       "      <td>1</td>\n",
       "      <td>Approved</td>\n",
       "      <td>13848.0</td>\n",
       "      <td>13848.0</td>\n",
       "      <td>...</td>\n",
       "      <td>NaN</td>\n",
       "      <td>NaN</td>\n",
       "      <td>NaN</td>\n",
       "      <td>NaN</td>\n",
       "      <td>NaN</td>\n",
       "      <td>NaN</td>\n",
       "      <td>NaN</td>\n",
       "      <td>NaN</td>\n",
       "      <td>NaN</td>\n",
       "      <td>NaN</td>\n",
       "    </tr>\n",
       "    <tr>\n",
       "      <th>97</th>\n",
       "      <td>807</td>\n",
       "      <td>26510</td>\n",
       "      <td>8004Q000001RDe4</td>\n",
       "      <td>0Q04Q000005jzgc</td>\n",
       "      <td>31561.0</td>\n",
       "      <td>Shutter</td>\n",
       "      <td>1</td>\n",
       "      <td>Approved</td>\n",
       "      <td>13307.0</td>\n",
       "      <td>13307.0</td>\n",
       "      <td>...</td>\n",
       "      <td>NaN</td>\n",
       "      <td>NaN</td>\n",
       "      <td>NaN</td>\n",
       "      <td>NaN</td>\n",
       "      <td>NaN</td>\n",
       "      <td>NaN</td>\n",
       "      <td>NaN</td>\n",
       "      <td>NaN</td>\n",
       "      <td>NaN</td>\n",
       "      <td>NaN</td>\n",
       "    </tr>\n",
       "    <tr>\n",
       "      <th>98</th>\n",
       "      <td>811</td>\n",
       "      <td>26512</td>\n",
       "      <td>8004Q000001RDe6</td>\n",
       "      <td>0Q04Q000005k0G5</td>\n",
       "      <td>31559.0</td>\n",
       "      <td>Shutter</td>\n",
       "      <td>1</td>\n",
       "      <td>Approved</td>\n",
       "      <td>5601.0</td>\n",
       "      <td>5601.0</td>\n",
       "      <td>...</td>\n",
       "      <td>NaN</td>\n",
       "      <td>NaN</td>\n",
       "      <td>NaN</td>\n",
       "      <td>NaN</td>\n",
       "      <td>NaN</td>\n",
       "      <td>NaN</td>\n",
       "      <td>NaN</td>\n",
       "      <td>NaN</td>\n",
       "      <td>NaN</td>\n",
       "      <td>NaN</td>\n",
       "    </tr>\n",
       "    <tr>\n",
       "      <th>99</th>\n",
       "      <td>823</td>\n",
       "      <td>26266</td>\n",
       "      <td>8004Q000001RDRb</td>\n",
       "      <td>0Q04Q000005jzLH</td>\n",
       "      <td>31284.0</td>\n",
       "      <td>Shutter</td>\n",
       "      <td>1</td>\n",
       "      <td>Approved</td>\n",
       "      <td>4968.0</td>\n",
       "      <td>4968.0</td>\n",
       "      <td>...</td>\n",
       "      <td>NaN</td>\n",
       "      <td>NaN</td>\n",
       "      <td>NaN</td>\n",
       "      <td>NaN</td>\n",
       "      <td>NaN</td>\n",
       "      <td>NaN</td>\n",
       "      <td>NaN</td>\n",
       "      <td>NaN</td>\n",
       "      <td>NaN</td>\n",
       "      <td>NaN</td>\n",
       "    </tr>\n",
       "  </tbody>\n",
       "</table>\n",
       "<p>100 rows × 52 columns</p>\n",
       "</div>"
      ],
      "text/plain": [
       "    Unnamed: 0  Contract Number      Contract ID         Quote ID  \\\n",
       "0            1            25146  8004Q000001RClb  0Q04Q000005jx3s   \n",
       "1            9            25230  8004Q000001RCpb  0Q04Q000005jwrN   \n",
       "2           12              295  8001U0000003t43  0Q01U000000vVLf   \n",
       "3           16              297  8001U0000003t45  0Q01U000000vVOl   \n",
       "4           24              301  8001U0000003t49  0Q01U000000vVSs   \n",
       "..         ...              ...              ...              ...   \n",
       "95         779            26258  8004Q000001RDRQ  0Q04Q000005jzHr   \n",
       "96         803            26423  8004Q000001RDZY  0Q04Q000005jzRD   \n",
       "97         807            26510  8004Q000001RDe4  0Q04Q000005jzgc   \n",
       "98         811            26512  8004Q000001RDe6  0Q04Q000005k0G5   \n",
       "99         823            26266  8004Q000001RDRb  0Q04Q000005jzLH   \n",
       "\n",
       "    Smartview Contract ID            Products  Contract Approved    Status  \\\n",
       "0                 30207.0             Shutter                  1  Approved   \n",
       "1                 30301.0              Window                  1  Approved   \n",
       "2                 28131.0             Shutter                  1  Approved   \n",
       "3                 28229.0             Shutter                  1  Approved   \n",
       "4                 28370.0             Shutter                  1  Approved   \n",
       "..                    ...                 ...                ...       ...   \n",
       "95                31273.0  Window and Shutter                  1  Approved   \n",
       "96                31470.0  Window and Shutter                  1  Approved   \n",
       "97                31561.0             Shutter                  1  Approved   \n",
       "98                31559.0             Shutter                  1  Approved   \n",
       "99                31284.0             Shutter                  1  Approved   \n",
       "\n",
       "    Subtotal  Total Price  ...  aeroway  man_made quarter office  township  \\\n",
       "0     7767.0       7767.0  ...      NaN       NaN     NaN    NaN       NaN   \n",
       "1    13702.0      13702.0  ...      NaN       NaN     NaN    NaN       NaN   \n",
       "2    12125.0      12125.0  ...      NaN       NaN     NaN    NaN       NaN   \n",
       "3     7025.0       7025.0  ...      NaN       NaN     NaN    NaN       NaN   \n",
       "4     6438.0       6438.0  ...      NaN       NaN     NaN    NaN       NaN   \n",
       "..       ...          ...  ...      ...       ...     ...    ...       ...   \n",
       "95    5353.2       5353.2  ...      NaN       NaN     NaN    NaN       NaN   \n",
       "96   13848.0      13848.0  ...      NaN       NaN     NaN    NaN       NaN   \n",
       "97   13307.0      13307.0  ...      NaN       NaN     NaN    NaN       NaN   \n",
       "98    5601.0       5601.0  ...      NaN       NaN     NaN    NaN       NaN   \n",
       "99    4968.0       4968.0  ...      NaN       NaN     NaN    NaN       NaN   \n",
       "\n",
       "    state_district  retail  city_district shop historic  \n",
       "0              NaN     NaN            NaN  NaN      NaN  \n",
       "1              NaN     NaN            NaN  NaN      NaN  \n",
       "2              NaN     NaN            NaN  NaN      NaN  \n",
       "3              NaN     NaN            NaN  NaN      NaN  \n",
       "4              NaN     NaN            NaN  NaN      NaN  \n",
       "..             ...     ...            ...  ...      ...  \n",
       "95             NaN     NaN            NaN  NaN      NaN  \n",
       "96             NaN     NaN            NaN  NaN      NaN  \n",
       "97             NaN     NaN            NaN  NaN      NaN  \n",
       "98             NaN     NaN            NaN  NaN      NaN  \n",
       "99             NaN     NaN            NaN  NaN      NaN  \n",
       "\n",
       "[100 rows x 52 columns]"
      ]
     },
     "execution_count": 22,
     "metadata": {},
     "output_type": "execute_result"
    }
   ],
   "source": [
    "df = pd.concat([df, df[\"Location\"].apply(pd.Series)], axis=1)\n",
    "df.head(100)"
   ]
  },
  {
   "cell_type": "code",
   "execution_count": 23,
   "metadata": {},
   "outputs": [
    {
     "name": "stdout",
     "output_type": "stream",
     "text": [
      "<class 'pandas.core.frame.DataFrame'>\n",
      "Int64Index: 4523 entries, 0 to 4530\n",
      "Data columns (total 52 columns):\n",
      " #   Column                 Non-Null Count  Dtype  \n",
      "---  ------                 --------------  -----  \n",
      " 0   Unnamed: 0             4523 non-null   int64  \n",
      " 1   Contract Number        4523 non-null   int64  \n",
      " 2   Contract ID            4523 non-null   object \n",
      " 3   Quote ID               4523 non-null   object \n",
      " 4   Smartview Contract ID  4523 non-null   float64\n",
      " 5   Products               4523 non-null   object \n",
      " 6   Contract Approved      4523 non-null   int64  \n",
      " 7   Status                 4523 non-null   object \n",
      " 8   Subtotal               4523 non-null   float64\n",
      " 9   Total Price            4523 non-null   float64\n",
      " 10  Contract Amount        4523 non-null   float64\n",
      " 11  Sales Total            4523 non-null   float64\n",
      " 12  Sold Date - Date Only  4522 non-null   object \n",
      " 13  Site Address           4523 non-null   object \n",
      " 14  Latitude               4523 non-null   float64\n",
      " 15  Longitude              4523 non-null   float64\n",
      " 16  Discount_Contract      4523 non-null   float64\n",
      " 17  Discount_Sales         4523 non-null   float64\n",
      " 18  Location               4523 non-null   object \n",
      " 19  house_number           3515 non-null   object \n",
      " 20  road                   4387 non-null   object \n",
      " 21  county                 4520 non-null   object \n",
      " 22  state                  4521 non-null   object \n",
      " 23  postcode               4244 non-null   object \n",
      " 24  country                4523 non-null   object \n",
      " 25  country_code           4523 non-null   object \n",
      " 26  hamlet                 480 non-null    object \n",
      " 27  town                   449 non-null    object \n",
      " 28  neighbourhood          785 non-null    object \n",
      " 29  city                   1089 non-null   object \n",
      " 30  residential            881 non-null    object \n",
      " 31  suburb                 502 non-null    object \n",
      " 32  leisure                214 non-null    object \n",
      " 33  village                557 non-null    object \n",
      " 34  landuse                2 non-null      object \n",
      " 35  locality               27 non-null     object \n",
      " 36  amenity                16 non-null     object \n",
      " 37  building               16 non-null     object \n",
      " 38  tourism                26 non-null     object \n",
      " 39  commercial             1 non-null      object \n",
      " 40  industrial             3 non-null      object \n",
      " 41  place                  3 non-null      object \n",
      " 42  aeroway                1 non-null      object \n",
      " 43  man_made               2 non-null      object \n",
      " 44  quarter                6 non-null      object \n",
      " 45  office                 2 non-null      object \n",
      " 46  township               1 non-null      object \n",
      " 47  state_district         2 non-null      object \n",
      " 48  retail                 2 non-null      object \n",
      " 49  city_district          1 non-null      object \n",
      " 50  shop                   1 non-null      object \n",
      " 51  historic               1 non-null      object \n",
      "dtypes: float64(9), int64(3), object(40)\n",
      "memory usage: 1.8+ MB\n"
     ]
    }
   ],
   "source": [
    "df.info()"
   ]
  },
  {
   "cell_type": "code",
   "execution_count": 24,
   "metadata": {},
   "outputs": [],
   "source": [
    "df= df[df['state'] == 'Florida']"
   ]
  },
  {
   "cell_type": "code",
   "execution_count": 25,
   "metadata": {},
   "outputs": [],
   "source": [
    "df.to_csv('C:/Users/bsuga/capstone_project/Data/Extract_from_Salesforce/Final_Data.csv')"
   ]
  },
  {
   "cell_type": "code",
   "execution_count": 26,
   "metadata": {},
   "outputs": [],
   "source": [
    "Window= df[df['Products'] == 'Window']\n",
    "Shutter=df[df['Products'] == 'Shutter']\n",
    "Window_and_Shutter=df[df['Products'] == 'Window and Shutter']"
   ]
  },
  {
   "cell_type": "code",
   "execution_count": 27,
   "metadata": {},
   "outputs": [
    {
     "data": {
      "text/plain": [
       "(464, 52)"
      ]
     },
     "execution_count": 27,
     "metadata": {},
     "output_type": "execute_result"
    }
   ],
   "source": [
    "Window.shape"
   ]
  },
  {
   "cell_type": "code",
   "execution_count": 28,
   "metadata": {},
   "outputs": [
    {
     "data": {
      "text/plain": [
       "(3704, 52)"
      ]
     },
     "execution_count": 28,
     "metadata": {},
     "output_type": "execute_result"
    }
   ],
   "source": [
    "Shutter.shape"
   ]
  },
  {
   "cell_type": "code",
   "execution_count": 29,
   "metadata": {},
   "outputs": [
    {
     "data": {
      "text/plain": [
       "(301, 52)"
      ]
     },
     "execution_count": 29,
     "metadata": {},
     "output_type": "execute_result"
    }
   ],
   "source": [
    "Window_and_Shutter.shape\n"
   ]
  },
  {
   "cell_type": "code",
   "execution_count": 30,
   "metadata": {},
   "outputs": [],
   "source": [
    "Window.to_csv('C:/Users/bsuga/capstone_project/Data/Extract_from_Salesforce/Window.csv')\n",
    "Shutter.to_csv('C:/Users/bsuga/capstone_project/Data/Extract_from_Salesforce/Shutter.csv')\n",
    "Window_and_Shutter.to_csv('C:/Users/bsuga/capstone_project/Data/Extract_from_Salesforce/Window_and_Shutter.csv')"
   ]
  },
  {
   "cell_type": "code",
   "execution_count": 31,
   "metadata": {},
   "outputs": [],
   "source": [
    "Quantity = pd.read_csv('C:/Users/bsuga/capstone_project/Data/Extract_from_Salesforce/Quantity.csv',encoding='ISO-8859-1')"
   ]
  },
  {
   "cell_type": "code",
   "execution_count": 32,
   "metadata": {},
   "outputs": [
    {
     "data": {
      "text/html": [
       "<div>\n",
       "<style scoped>\n",
       "    .dataframe tbody tr th:only-of-type {\n",
       "        vertical-align: middle;\n",
       "    }\n",
       "\n",
       "    .dataframe tbody tr th {\n",
       "        vertical-align: top;\n",
       "    }\n",
       "\n",
       "    .dataframe thead th {\n",
       "        text-align: right;\n",
       "    }\n",
       "</style>\n",
       "<table border=\"1\" class=\"dataframe\">\n",
       "  <thead>\n",
       "    <tr style=\"text-align: right;\">\n",
       "      <th></th>\n",
       "      <th>Quantity</th>\n",
       "      <th>Quote Number</th>\n",
       "      <th>Quote ID</th>\n",
       "      <th>Contract ID</th>\n",
       "      <th>Products</th>\n",
       "      <th>Contract Number</th>\n",
       "      <th>Quote Name</th>\n",
       "      <th>Line Item Number</th>\n",
       "    </tr>\n",
       "  </thead>\n",
       "  <tbody>\n",
       "    <tr>\n",
       "      <th>0</th>\n",
       "      <td>1</td>\n",
       "      <td>109346</td>\n",
       "      <td>0Q04Q000005jyjn</td>\n",
       "      <td>8001U0000003zFB</td>\n",
       "      <td>Window and Shutter</td>\n",
       "      <td>23554</td>\n",
       "      <td>James Barbara Swisshelm - 02-28-2020</td>\n",
       "      <td>1581017</td>\n",
       "    </tr>\n",
       "    <tr>\n",
       "      <th>1</th>\n",
       "      <td>1</td>\n",
       "      <td>154477</td>\n",
       "      <td>0Q04Q000005qpRg</td>\n",
       "      <td>8004Q0000025lLG</td>\n",
       "      <td>Window and Shutter</td>\n",
       "      <td>35262</td>\n",
       "      <td>Lynn Cooper - 08-30-2021</td>\n",
       "      <td>8985830</td>\n",
       "    </tr>\n",
       "    <tr>\n",
       "      <th>2</th>\n",
       "      <td>1</td>\n",
       "      <td>10310</td>\n",
       "      <td>0Q01U000000vXMj</td>\n",
       "      <td>8001U0000003v8Q</td>\n",
       "      <td>Shutter</td>\n",
       "      <td>8249</td>\n",
       "      <td>2204 NE 15TH PL</td>\n",
       "      <td>304371</td>\n",
       "    </tr>\n",
       "    <tr>\n",
       "      <th>3</th>\n",
       "      <td>1</td>\n",
       "      <td>133108</td>\n",
       "      <td>0Q04Q000006iBXS</td>\n",
       "      <td>8004Q00000244I1</td>\n",
       "      <td>Shutter</td>\n",
       "      <td>31090</td>\n",
       "      <td>Inman Johnson - 03-03-2021</td>\n",
       "      <td>8768384</td>\n",
       "    </tr>\n",
       "    <tr>\n",
       "      <th>4</th>\n",
       "      <td>1</td>\n",
       "      <td>52131</td>\n",
       "      <td>0Q01U000000viFG</td>\n",
       "      <td>8001U0000003x4s</td>\n",
       "      <td>Window</td>\n",
       "      <td>15717</td>\n",
       "      <td>3486 CLUBVIEW DR</td>\n",
       "      <td>597779</td>\n",
       "    </tr>\n",
       "  </tbody>\n",
       "</table>\n",
       "</div>"
      ],
      "text/plain": [
       "   Quantity  Quote Number         Quote ID      Contract ID  \\\n",
       "0         1        109346  0Q04Q000005jyjn  8001U0000003zFB   \n",
       "1         1        154477  0Q04Q000005qpRg  8004Q0000025lLG   \n",
       "2         1         10310  0Q01U000000vXMj  8001U0000003v8Q   \n",
       "3         1        133108  0Q04Q000006iBXS  8004Q00000244I1   \n",
       "4         1         52131  0Q01U000000viFG  8001U0000003x4s   \n",
       "\n",
       "             Products  Contract Number                            Quote Name  \\\n",
       "0  Window and Shutter            23554  James Barbara Swisshelm - 02-28-2020   \n",
       "1  Window and Shutter            35262              Lynn Cooper - 08-30-2021   \n",
       "2             Shutter             8249                       2204 NE 15TH PL   \n",
       "3             Shutter            31090            Inman Johnson - 03-03-2021   \n",
       "4              Window            15717                      3486 CLUBVIEW DR   \n",
       "\n",
       "   Line Item Number  \n",
       "0           1581017  \n",
       "1           8985830  \n",
       "2            304371  \n",
       "3           8768384  \n",
       "4            597779  "
      ]
     },
     "execution_count": 32,
     "metadata": {},
     "output_type": "execute_result"
    }
   ],
   "source": [
    "Quantity.head()"
   ]
  },
  {
   "cell_type": "code",
   "execution_count": 33,
   "metadata": {},
   "outputs": [],
   "source": [
    "Quantity=Quantity[['Contract Number','Quantity']]"
   ]
  },
  {
   "cell_type": "code",
   "execution_count": 34,
   "metadata": {},
   "outputs": [
    {
     "data": {
      "text/plain": [
       "(320270, 2)"
      ]
     },
     "execution_count": 34,
     "metadata": {},
     "output_type": "execute_result"
    }
   ],
   "source": [
    "Quantity.shape\n"
   ]
  },
  {
   "cell_type": "code",
   "execution_count": 35,
   "metadata": {},
   "outputs": [
    {
     "data": {
      "text/html": [
       "<div>\n",
       "<style scoped>\n",
       "    .dataframe tbody tr th:only-of-type {\n",
       "        vertical-align: middle;\n",
       "    }\n",
       "\n",
       "    .dataframe tbody tr th {\n",
       "        vertical-align: top;\n",
       "    }\n",
       "\n",
       "    .dataframe thead th {\n",
       "        text-align: right;\n",
       "    }\n",
       "</style>\n",
       "<table border=\"1\" class=\"dataframe\">\n",
       "  <thead>\n",
       "    <tr style=\"text-align: right;\">\n",
       "      <th></th>\n",
       "      <th>Contract Number</th>\n",
       "      <th>Quantity</th>\n",
       "    </tr>\n",
       "  </thead>\n",
       "  <tbody>\n",
       "    <tr>\n",
       "      <th>0</th>\n",
       "      <td>23554</td>\n",
       "      <td>1</td>\n",
       "    </tr>\n",
       "    <tr>\n",
       "      <th>1</th>\n",
       "      <td>35262</td>\n",
       "      <td>1</td>\n",
       "    </tr>\n",
       "    <tr>\n",
       "      <th>2</th>\n",
       "      <td>8249</td>\n",
       "      <td>1</td>\n",
       "    </tr>\n",
       "    <tr>\n",
       "      <th>3</th>\n",
       "      <td>31090</td>\n",
       "      <td>1</td>\n",
       "    </tr>\n",
       "    <tr>\n",
       "      <th>4</th>\n",
       "      <td>15717</td>\n",
       "      <td>1</td>\n",
       "    </tr>\n",
       "  </tbody>\n",
       "</table>\n",
       "</div>"
      ],
      "text/plain": [
       "   Contract Number  Quantity\n",
       "0            23554         1\n",
       "1            35262         1\n",
       "2             8249         1\n",
       "3            31090         1\n",
       "4            15717         1"
      ]
     },
     "execution_count": 35,
     "metadata": {},
     "output_type": "execute_result"
    }
   ],
   "source": [
    "Quantity.head()"
   ]
  },
  {
   "cell_type": "code",
   "execution_count": 36,
   "metadata": {},
   "outputs": [],
   "source": [
    "Quantity=Quantity.groupby(['Contract Number']).sum()"
   ]
  },
  {
   "cell_type": "code",
   "execution_count": 37,
   "metadata": {},
   "outputs": [
    {
     "data": {
      "text/html": [
       "<div>\n",
       "<style scoped>\n",
       "    .dataframe tbody tr th:only-of-type {\n",
       "        vertical-align: middle;\n",
       "    }\n",
       "\n",
       "    .dataframe tbody tr th {\n",
       "        vertical-align: top;\n",
       "    }\n",
       "\n",
       "    .dataframe thead th {\n",
       "        text-align: right;\n",
       "    }\n",
       "</style>\n",
       "<table border=\"1\" class=\"dataframe\">\n",
       "  <thead>\n",
       "    <tr style=\"text-align: right;\">\n",
       "      <th></th>\n",
       "      <th>Quantity</th>\n",
       "    </tr>\n",
       "    <tr>\n",
       "      <th>Contract Number</th>\n",
       "      <th></th>\n",
       "    </tr>\n",
       "  </thead>\n",
       "  <tbody>\n",
       "    <tr>\n",
       "      <th>101</th>\n",
       "      <td>79</td>\n",
       "    </tr>\n",
       "    <tr>\n",
       "      <th>102</th>\n",
       "      <td>16</td>\n",
       "    </tr>\n",
       "    <tr>\n",
       "      <th>103</th>\n",
       "      <td>14</td>\n",
       "    </tr>\n",
       "    <tr>\n",
       "      <th>104</th>\n",
       "      <td>14</td>\n",
       "    </tr>\n",
       "    <tr>\n",
       "      <th>105</th>\n",
       "      <td>6</td>\n",
       "    </tr>\n",
       "  </tbody>\n",
       "</table>\n",
       "</div>"
      ],
      "text/plain": [
       "                 Quantity\n",
       "Contract Number          \n",
       "101                    79\n",
       "102                    16\n",
       "103                    14\n",
       "104                    14\n",
       "105                     6"
      ]
     },
     "execution_count": 37,
     "metadata": {},
     "output_type": "execute_result"
    }
   ],
   "source": [
    "Quantity.head()\n"
   ]
  },
  {
   "cell_type": "code",
   "execution_count": 38,
   "metadata": {},
   "outputs": [
    {
     "data": {
      "text/html": [
       "<div>\n",
       "<style scoped>\n",
       "    .dataframe tbody tr th:only-of-type {\n",
       "        vertical-align: middle;\n",
       "    }\n",
       "\n",
       "    .dataframe tbody tr th {\n",
       "        vertical-align: top;\n",
       "    }\n",
       "\n",
       "    .dataframe thead th {\n",
       "        text-align: right;\n",
       "    }\n",
       "</style>\n",
       "<table border=\"1\" class=\"dataframe\">\n",
       "  <thead>\n",
       "    <tr style=\"text-align: right;\">\n",
       "      <th></th>\n",
       "      <th>Unnamed: 0</th>\n",
       "      <th>Contract Number</th>\n",
       "      <th>Contract ID</th>\n",
       "      <th>Quote ID</th>\n",
       "      <th>Smartview Contract ID</th>\n",
       "      <th>Products</th>\n",
       "      <th>Contract Approved</th>\n",
       "      <th>Status</th>\n",
       "      <th>Subtotal</th>\n",
       "      <th>Total Price</th>\n",
       "      <th>...</th>\n",
       "      <th>aeroway</th>\n",
       "      <th>man_made</th>\n",
       "      <th>quarter</th>\n",
       "      <th>office</th>\n",
       "      <th>township</th>\n",
       "      <th>state_district</th>\n",
       "      <th>retail</th>\n",
       "      <th>city_district</th>\n",
       "      <th>shop</th>\n",
       "      <th>historic</th>\n",
       "    </tr>\n",
       "  </thead>\n",
       "  <tbody>\n",
       "    <tr>\n",
       "      <th>0</th>\n",
       "      <td>1</td>\n",
       "      <td>25146</td>\n",
       "      <td>8004Q000001RClb</td>\n",
       "      <td>0Q04Q000005jx3s</td>\n",
       "      <td>30207.0</td>\n",
       "      <td>Shutter</td>\n",
       "      <td>1</td>\n",
       "      <td>Approved</td>\n",
       "      <td>7767.0</td>\n",
       "      <td>7767.0</td>\n",
       "      <td>...</td>\n",
       "      <td>NaN</td>\n",
       "      <td>NaN</td>\n",
       "      <td>NaN</td>\n",
       "      <td>NaN</td>\n",
       "      <td>NaN</td>\n",
       "      <td>NaN</td>\n",
       "      <td>NaN</td>\n",
       "      <td>NaN</td>\n",
       "      <td>NaN</td>\n",
       "      <td>NaN</td>\n",
       "    </tr>\n",
       "    <tr>\n",
       "      <th>1</th>\n",
       "      <td>9</td>\n",
       "      <td>25230</td>\n",
       "      <td>8004Q000001RCpb</td>\n",
       "      <td>0Q04Q000005jwrN</td>\n",
       "      <td>30301.0</td>\n",
       "      <td>Window</td>\n",
       "      <td>1</td>\n",
       "      <td>Approved</td>\n",
       "      <td>13702.0</td>\n",
       "      <td>13702.0</td>\n",
       "      <td>...</td>\n",
       "      <td>NaN</td>\n",
       "      <td>NaN</td>\n",
       "      <td>NaN</td>\n",
       "      <td>NaN</td>\n",
       "      <td>NaN</td>\n",
       "      <td>NaN</td>\n",
       "      <td>NaN</td>\n",
       "      <td>NaN</td>\n",
       "      <td>NaN</td>\n",
       "      <td>NaN</td>\n",
       "    </tr>\n",
       "    <tr>\n",
       "      <th>2</th>\n",
       "      <td>12</td>\n",
       "      <td>295</td>\n",
       "      <td>8001U0000003t43</td>\n",
       "      <td>0Q01U000000vVLf</td>\n",
       "      <td>28131.0</td>\n",
       "      <td>Shutter</td>\n",
       "      <td>1</td>\n",
       "      <td>Approved</td>\n",
       "      <td>12125.0</td>\n",
       "      <td>12125.0</td>\n",
       "      <td>...</td>\n",
       "      <td>NaN</td>\n",
       "      <td>NaN</td>\n",
       "      <td>NaN</td>\n",
       "      <td>NaN</td>\n",
       "      <td>NaN</td>\n",
       "      <td>NaN</td>\n",
       "      <td>NaN</td>\n",
       "      <td>NaN</td>\n",
       "      <td>NaN</td>\n",
       "      <td>NaN</td>\n",
       "    </tr>\n",
       "    <tr>\n",
       "      <th>3</th>\n",
       "      <td>16</td>\n",
       "      <td>297</td>\n",
       "      <td>8001U0000003t45</td>\n",
       "      <td>0Q01U000000vVOl</td>\n",
       "      <td>28229.0</td>\n",
       "      <td>Shutter</td>\n",
       "      <td>1</td>\n",
       "      <td>Approved</td>\n",
       "      <td>7025.0</td>\n",
       "      <td>7025.0</td>\n",
       "      <td>...</td>\n",
       "      <td>NaN</td>\n",
       "      <td>NaN</td>\n",
       "      <td>NaN</td>\n",
       "      <td>NaN</td>\n",
       "      <td>NaN</td>\n",
       "      <td>NaN</td>\n",
       "      <td>NaN</td>\n",
       "      <td>NaN</td>\n",
       "      <td>NaN</td>\n",
       "      <td>NaN</td>\n",
       "    </tr>\n",
       "    <tr>\n",
       "      <th>4</th>\n",
       "      <td>24</td>\n",
       "      <td>301</td>\n",
       "      <td>8001U0000003t49</td>\n",
       "      <td>0Q01U000000vVSs</td>\n",
       "      <td>28370.0</td>\n",
       "      <td>Shutter</td>\n",
       "      <td>1</td>\n",
       "      <td>Approved</td>\n",
       "      <td>6438.0</td>\n",
       "      <td>6438.0</td>\n",
       "      <td>...</td>\n",
       "      <td>NaN</td>\n",
       "      <td>NaN</td>\n",
       "      <td>NaN</td>\n",
       "      <td>NaN</td>\n",
       "      <td>NaN</td>\n",
       "      <td>NaN</td>\n",
       "      <td>NaN</td>\n",
       "      <td>NaN</td>\n",
       "      <td>NaN</td>\n",
       "      <td>NaN</td>\n",
       "    </tr>\n",
       "  </tbody>\n",
       "</table>\n",
       "<p>5 rows × 52 columns</p>\n",
       "</div>"
      ],
      "text/plain": [
       "   Unnamed: 0  Contract Number      Contract ID         Quote ID  \\\n",
       "0           1            25146  8004Q000001RClb  0Q04Q000005jx3s   \n",
       "1           9            25230  8004Q000001RCpb  0Q04Q000005jwrN   \n",
       "2          12              295  8001U0000003t43  0Q01U000000vVLf   \n",
       "3          16              297  8001U0000003t45  0Q01U000000vVOl   \n",
       "4          24              301  8001U0000003t49  0Q01U000000vVSs   \n",
       "\n",
       "   Smartview Contract ID Products  Contract Approved    Status  Subtotal  \\\n",
       "0                30207.0  Shutter                  1  Approved    7767.0   \n",
       "1                30301.0   Window                  1  Approved   13702.0   \n",
       "2                28131.0  Shutter                  1  Approved   12125.0   \n",
       "3                28229.0  Shutter                  1  Approved    7025.0   \n",
       "4                28370.0  Shutter                  1  Approved    6438.0   \n",
       "\n",
       "   Total Price  ...  aeroway  man_made quarter office  township  \\\n",
       "0       7767.0  ...      NaN       NaN     NaN    NaN       NaN   \n",
       "1      13702.0  ...      NaN       NaN     NaN    NaN       NaN   \n",
       "2      12125.0  ...      NaN       NaN     NaN    NaN       NaN   \n",
       "3       7025.0  ...      NaN       NaN     NaN    NaN       NaN   \n",
       "4       6438.0  ...      NaN       NaN     NaN    NaN       NaN   \n",
       "\n",
       "   state_district  retail  city_district shop historic  \n",
       "0             NaN     NaN            NaN  NaN      NaN  \n",
       "1             NaN     NaN            NaN  NaN      NaN  \n",
       "2             NaN     NaN            NaN  NaN      NaN  \n",
       "3             NaN     NaN            NaN  NaN      NaN  \n",
       "4             NaN     NaN            NaN  NaN      NaN  \n",
       "\n",
       "[5 rows x 52 columns]"
      ]
     },
     "execution_count": 38,
     "metadata": {},
     "output_type": "execute_result"
    }
   ],
   "source": [
    "df.head()"
   ]
  },
  {
   "cell_type": "code",
   "execution_count": 39,
   "metadata": {},
   "outputs": [],
   "source": [
    "df = df.merge(Quantity[['Quantity']], how = 'left',\n",
    "                left_on = 'Contract Number', right_on = 'Contract Number')\n",
    "#.drop(columns= ['Sold Date','Grand Total','Quote Name'])\n"
   ]
  },
  {
   "cell_type": "code",
   "execution_count": 66,
   "metadata": {},
   "outputs": [
    {
     "name": "stdout",
     "output_type": "stream",
     "text": [
      "<class 'pandas.core.frame.DataFrame'>\n",
      "Int64Index: 4469 entries, 0 to 4468\n",
      "Data columns (total 50 columns):\n",
      " #   Column                 Non-Null Count  Dtype  \n",
      "---  ------                 --------------  -----  \n",
      " 0   Unnamed: 0             4469 non-null   int64  \n",
      " 1   Contract Number        4469 non-null   int64  \n",
      " 2   Contract ID            4469 non-null   object \n",
      " 3   Quote ID               4469 non-null   object \n",
      " 4   Smartview Contract ID  4469 non-null   float64\n",
      " 5   Products               4469 non-null   object \n",
      " 6   Contract Approved      4469 non-null   int64  \n",
      " 7   Status                 4469 non-null   object \n",
      " 8   Subtotal               4469 non-null   float64\n",
      " 9   Total Price            4469 non-null   float64\n",
      " 10  Contract Amount        4469 non-null   float64\n",
      " 11  Sales Total            4469 non-null   float64\n",
      " 12  Sold Date - Date Only  4468 non-null   object \n",
      " 13  Site Address           4469 non-null   object \n",
      " 14  Latitude               4469 non-null   float64\n",
      " 15  Longitude              4469 non-null   float64\n",
      " 16  Discount_Contract      4469 non-null   float64\n",
      " 17  Discount_Sales         4469 non-null   float64\n",
      " 18  geometry               4469 non-null   object \n",
      " 19  Location               4469 non-null   object \n",
      " 20  road                   4287 non-null   object \n",
      " 21  county                 4469 non-null   object \n",
      " 22  state                  4469 non-null   object \n",
      " 23  postcode               4154 non-null   object \n",
      " 24  country                4469 non-null   object \n",
      " 25  country_code           4469 non-null   object \n",
      " 26  house_number           2580 non-null   object \n",
      " 27  hamlet                 508 non-null    object \n",
      " 28  town                   465 non-null    object \n",
      " 29  suburb                 584 non-null    object \n",
      " 30  village                581 non-null    object \n",
      " 31  neighbourhood          687 non-null    object \n",
      " 32  residential            771 non-null    object \n",
      " 33  leisure                272 non-null    object \n",
      " 34  city                   1062 non-null   object \n",
      " 35  amenity                45 non-null     object \n",
      " 36  locality               29 non-null     object \n",
      " 37  retail                 7 non-null      object \n",
      " 38  building               19 non-null     object \n",
      " 39  tourism                15 non-null     object \n",
      " 40  commercial             5 non-null      object \n",
      " 41  shop                   8 non-null      object \n",
      " 42  office                 1 non-null      object \n",
      " 43  township               0 non-null      object \n",
      " 44  man_made               1 non-null      object \n",
      " 45  quarter                0 non-null      object \n",
      " 46  state_district         0 non-null      object \n",
      " 47  city_district          0 non-null      object \n",
      " 48  industrial             1 non-null      object \n",
      " 49  Quantity               4435 non-null   float64\n",
      "dtypes: float64(10), int64(3), object(37)\n",
      "memory usage: 1.7+ MB\n"
     ]
    }
   ],
   "source": [
    "df.info()"
   ]
  },
  {
   "cell_type": "code",
   "execution_count": 40,
   "metadata": {},
   "outputs": [],
   "source": [
    "df.to_csv('C:/Users/bsuga/capstone_project/Data/Extract_from_Salesforce/Final_Data.csv')"
   ]
  },
  {
   "cell_type": "code",
   "execution_count": 41,
   "metadata": {},
   "outputs": [],
   "source": [
    "Window.to_csv('C:/Users/bsuga/capstone_project/Data/Extract_from_Salesforce/Window.csv')\n",
    "Shutter.to_csv('C:/Users/bsuga/capstone_project/Data/Extract_from_Salesforce/Shutter.csv')\n",
    "Window_and_Shutter.to_csv('C:/Users/bsuga/capstone_project/Data/Extract_from_Salesforce/Window_and_Shutter.csv')"
   ]
  },
  {
   "cell_type": "code",
   "execution_count": 42,
   "metadata": {
    "scrolled": true
   },
   "outputs": [
    {
     "data": {
      "text/html": [
       "<div>\n",
       "<style scoped>\n",
       "    .dataframe tbody tr th:only-of-type {\n",
       "        vertical-align: middle;\n",
       "    }\n",
       "\n",
       "    .dataframe tbody tr th {\n",
       "        vertical-align: top;\n",
       "    }\n",
       "\n",
       "    .dataframe thead th {\n",
       "        text-align: right;\n",
       "    }\n",
       "</style>\n",
       "<table border=\"1\" class=\"dataframe\">\n",
       "  <thead>\n",
       "    <tr style=\"text-align: right;\">\n",
       "      <th></th>\n",
       "      <th>Unnamed: 0</th>\n",
       "      <th>Contract Number</th>\n",
       "      <th>Contract ID</th>\n",
       "      <th>Quote ID</th>\n",
       "      <th>Smartview Contract ID</th>\n",
       "      <th>Products</th>\n",
       "      <th>Contract Approved</th>\n",
       "      <th>Status</th>\n",
       "      <th>Subtotal</th>\n",
       "      <th>Total Price</th>\n",
       "      <th>...</th>\n",
       "      <th>man_made</th>\n",
       "      <th>quarter</th>\n",
       "      <th>office</th>\n",
       "      <th>township</th>\n",
       "      <th>state_district</th>\n",
       "      <th>retail</th>\n",
       "      <th>city_district</th>\n",
       "      <th>shop</th>\n",
       "      <th>historic</th>\n",
       "      <th>Quantity</th>\n",
       "    </tr>\n",
       "  </thead>\n",
       "  <tbody>\n",
       "    <tr>\n",
       "      <th>0</th>\n",
       "      <td>1</td>\n",
       "      <td>25146</td>\n",
       "      <td>8004Q000001RClb</td>\n",
       "      <td>0Q04Q000005jx3s</td>\n",
       "      <td>30207.0</td>\n",
       "      <td>Shutter</td>\n",
       "      <td>1</td>\n",
       "      <td>Approved</td>\n",
       "      <td>7767.0</td>\n",
       "      <td>7767.0</td>\n",
       "      <td>...</td>\n",
       "      <td>NaN</td>\n",
       "      <td>NaN</td>\n",
       "      <td>NaN</td>\n",
       "      <td>NaN</td>\n",
       "      <td>NaN</td>\n",
       "      <td>NaN</td>\n",
       "      <td>NaN</td>\n",
       "      <td>NaN</td>\n",
       "      <td>NaN</td>\n",
       "      <td>9.0</td>\n",
       "    </tr>\n",
       "    <tr>\n",
       "      <th>1</th>\n",
       "      <td>9</td>\n",
       "      <td>25230</td>\n",
       "      <td>8004Q000001RCpb</td>\n",
       "      <td>0Q04Q000005jwrN</td>\n",
       "      <td>30301.0</td>\n",
       "      <td>Window</td>\n",
       "      <td>1</td>\n",
       "      <td>Approved</td>\n",
       "      <td>13702.0</td>\n",
       "      <td>13702.0</td>\n",
       "      <td>...</td>\n",
       "      <td>NaN</td>\n",
       "      <td>NaN</td>\n",
       "      <td>NaN</td>\n",
       "      <td>NaN</td>\n",
       "      <td>NaN</td>\n",
       "      <td>NaN</td>\n",
       "      <td>NaN</td>\n",
       "      <td>NaN</td>\n",
       "      <td>NaN</td>\n",
       "      <td>27.0</td>\n",
       "    </tr>\n",
       "    <tr>\n",
       "      <th>2</th>\n",
       "      <td>12</td>\n",
       "      <td>295</td>\n",
       "      <td>8001U0000003t43</td>\n",
       "      <td>0Q01U000000vVLf</td>\n",
       "      <td>28131.0</td>\n",
       "      <td>Shutter</td>\n",
       "      <td>1</td>\n",
       "      <td>Approved</td>\n",
       "      <td>12125.0</td>\n",
       "      <td>12125.0</td>\n",
       "      <td>...</td>\n",
       "      <td>NaN</td>\n",
       "      <td>NaN</td>\n",
       "      <td>NaN</td>\n",
       "      <td>NaN</td>\n",
       "      <td>NaN</td>\n",
       "      <td>NaN</td>\n",
       "      <td>NaN</td>\n",
       "      <td>NaN</td>\n",
       "      <td>NaN</td>\n",
       "      <td>157.0</td>\n",
       "    </tr>\n",
       "    <tr>\n",
       "      <th>3</th>\n",
       "      <td>16</td>\n",
       "      <td>297</td>\n",
       "      <td>8001U0000003t45</td>\n",
       "      <td>0Q01U000000vVOl</td>\n",
       "      <td>28229.0</td>\n",
       "      <td>Shutter</td>\n",
       "      <td>1</td>\n",
       "      <td>Approved</td>\n",
       "      <td>7025.0</td>\n",
       "      <td>7025.0</td>\n",
       "      <td>...</td>\n",
       "      <td>NaN</td>\n",
       "      <td>NaN</td>\n",
       "      <td>NaN</td>\n",
       "      <td>NaN</td>\n",
       "      <td>NaN</td>\n",
       "      <td>NaN</td>\n",
       "      <td>NaN</td>\n",
       "      <td>NaN</td>\n",
       "      <td>NaN</td>\n",
       "      <td>36.0</td>\n",
       "    </tr>\n",
       "    <tr>\n",
       "      <th>4</th>\n",
       "      <td>24</td>\n",
       "      <td>301</td>\n",
       "      <td>8001U0000003t49</td>\n",
       "      <td>0Q01U000000vVSs</td>\n",
       "      <td>28370.0</td>\n",
       "      <td>Shutter</td>\n",
       "      <td>1</td>\n",
       "      <td>Approved</td>\n",
       "      <td>6438.0</td>\n",
       "      <td>6438.0</td>\n",
       "      <td>...</td>\n",
       "      <td>NaN</td>\n",
       "      <td>NaN</td>\n",
       "      <td>NaN</td>\n",
       "      <td>NaN</td>\n",
       "      <td>NaN</td>\n",
       "      <td>NaN</td>\n",
       "      <td>NaN</td>\n",
       "      <td>NaN</td>\n",
       "      <td>NaN</td>\n",
       "      <td>32.0</td>\n",
       "    </tr>\n",
       "  </tbody>\n",
       "</table>\n",
       "<p>5 rows × 53 columns</p>\n",
       "</div>"
      ],
      "text/plain": [
       "   Unnamed: 0  Contract Number      Contract ID         Quote ID  \\\n",
       "0           1            25146  8004Q000001RClb  0Q04Q000005jx3s   \n",
       "1           9            25230  8004Q000001RCpb  0Q04Q000005jwrN   \n",
       "2          12              295  8001U0000003t43  0Q01U000000vVLf   \n",
       "3          16              297  8001U0000003t45  0Q01U000000vVOl   \n",
       "4          24              301  8001U0000003t49  0Q01U000000vVSs   \n",
       "\n",
       "   Smartview Contract ID Products  Contract Approved    Status  Subtotal  \\\n",
       "0                30207.0  Shutter                  1  Approved    7767.0   \n",
       "1                30301.0   Window                  1  Approved   13702.0   \n",
       "2                28131.0  Shutter                  1  Approved   12125.0   \n",
       "3                28229.0  Shutter                  1  Approved    7025.0   \n",
       "4                28370.0  Shutter                  1  Approved    6438.0   \n",
       "\n",
       "   Total Price  ...  man_made  quarter office township  state_district  \\\n",
       "0       7767.0  ...       NaN      NaN    NaN      NaN             NaN   \n",
       "1      13702.0  ...       NaN      NaN    NaN      NaN             NaN   \n",
       "2      12125.0  ...       NaN      NaN    NaN      NaN             NaN   \n",
       "3       7025.0  ...       NaN      NaN    NaN      NaN             NaN   \n",
       "4       6438.0  ...       NaN      NaN    NaN      NaN             NaN   \n",
       "\n",
       "   retail  city_district  shop historic Quantity  \n",
       "0     NaN            NaN   NaN      NaN      9.0  \n",
       "1     NaN            NaN   NaN      NaN     27.0  \n",
       "2     NaN            NaN   NaN      NaN    157.0  \n",
       "3     NaN            NaN   NaN      NaN     36.0  \n",
       "4     NaN            NaN   NaN      NaN     32.0  \n",
       "\n",
       "[5 rows x 53 columns]"
      ]
     },
     "execution_count": 42,
     "metadata": {},
     "output_type": "execute_result"
    }
   ],
   "source": [
    "df.head()"
   ]
  },
  {
   "cell_type": "code",
   "execution_count": null,
   "metadata": {},
   "outputs": [],
   "source": []
  }
 ],
 "metadata": {
  "kernelspec": {
   "display_name": "Python 3",
   "language": "python",
   "name": "python3"
  },
  "language_info": {
   "codemirror_mode": {
    "name": "ipython",
    "version": 3
   },
   "file_extension": ".py",
   "mimetype": "text/x-python",
   "name": "python",
   "nbconvert_exporter": "python",
   "pygments_lexer": "ipython3",
   "version": "3.7.6"
  }
 },
 "nbformat": 4,
 "nbformat_minor": 4
}
